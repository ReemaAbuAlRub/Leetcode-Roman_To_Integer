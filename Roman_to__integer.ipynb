{
  "nbformat": 4,
  "nbformat_minor": 0,
  "metadata": {
    "colab": {
      "provenance": []
    },
    "kernelspec": {
      "name": "python3",
      "display_name": "Python 3"
    },
    "language_info": {
      "name": "python"
    }
  },
  "cells": [
    {
      "cell_type": "code",
      "execution_count": null,
      "metadata": {
        "id": "ORO6DSP00TTu"
      },
      "outputs": [],
      "source": [
        "class Solution:\n",
        "    def romanToInt(self, s: str) -> int:\n",
        "    \n",
        "\n",
        "        num=0\n",
        "        \n",
        "        dic={'I':1,'V':5,'X':10,'L':50,'C':100,'D':500,'M':1000,'XL':-20,'XC':-20,'IV':-2,'IX':-2,                     'CD':-200,'CM':-200 }\n",
        "\n",
        "        for i in range(len(s)):\n",
        "            var=s[i]\n",
        "            num=num+dic[var]\n",
        "            \n",
        "        for i in range(len(s)):\n",
        "            if (s[i:i+2] in dic and len(s[i:i+2])==2):\n",
        "                var=s[i:i+2]\n",
        "                num=num+dic[var]\n",
        "       \n",
        "        return num"
      ]
    }
  ]
}